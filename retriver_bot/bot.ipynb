{
 "cells": [
  {
   "cell_type": "markdown",
   "id": "6cb0e49b",
   "metadata": {},
   "source": [
    "## 检索机器人"
   ]
  },
  {
   "cell_type": "code",
   "execution_count": 1,
   "id": "125e8a2d",
   "metadata": {},
   "outputs": [],
   "source": [
    "from transformers import AutoTokenizer\n",
    "import faiss\n",
    "import pandas as pd"
   ]
  },
  {
   "cell_type": "code",
   "execution_count": 2,
   "id": "18dfdd97",
   "metadata": {},
   "outputs": [
    {
     "data": {
      "text/html": [
       "<div>\n",
       "<style scoped>\n",
       "    .dataframe tbody tr th:only-of-type {\n",
       "        vertical-align: middle;\n",
       "    }\n",
       "\n",
       "    .dataframe tbody tr th {\n",
       "        vertical-align: top;\n",
       "    }\n",
       "\n",
       "    .dataframe thead th {\n",
       "        text-align: right;\n",
       "    }\n",
       "</style>\n",
       "<table border=\"1\" class=\"dataframe\">\n",
       "  <thead>\n",
       "    <tr style=\"text-align: right;\">\n",
       "      <th></th>\n",
       "      <th>title</th>\n",
       "      <th>reply</th>\n",
       "    </tr>\n",
       "  </thead>\n",
       "  <tbody>\n",
       "    <tr>\n",
       "      <th>0</th>\n",
       "      <td>在法律中定金与订金的区别订金和定金哪个受</td>\n",
       "      <td>“定金”是指当事人约定由一方向对方给付的，作为债权担保的一定数额的货币，它属于一种法律上的担...</td>\n",
       "    </tr>\n",
       "    <tr>\n",
       "      <th>1</th>\n",
       "      <td>盗窃罪的犯罪客体是什么，盗窃罪的犯罪主体</td>\n",
       "      <td>盗窃罪的客体要件本罪侵犯的客体是公私财物的所有权。侵犯的对象，是国家、集体或个人的财物，一般...</td>\n",
       "    </tr>\n",
       "    <tr>\n",
       "      <th>2</th>\n",
       "      <td>非法微整形机构构成非法经营罪吗</td>\n",
       "      <td>符合要件就有可能。非法经营罪，是指未经许可经营专营、专卖物品或其他限制买卖的物品，买卖进出口...</td>\n",
       "    </tr>\n",
       "    <tr>\n",
       "      <th>3</th>\n",
       "      <td>入室持刀行凶伤人能不能判刑</td>\n",
       "      <td>对于入室持刀伤人涉嫌故意伤害刑事犯罪，一经定罪，故意伤害他人身体的，处三年以下有期徒刑、拘役...</td>\n",
       "    </tr>\n",
       "    <tr>\n",
       "      <th>4</th>\n",
       "      <td>对交通事故责任认定书不服怎么办，交通事故损</td>\n",
       "      <td>事故认定书下发后，如果你对认定不满意，可在接到认定书3日内到上一级公安机关复议。</td>\n",
       "    </tr>\n",
       "  </tbody>\n",
       "</table>\n",
       "</div>"
      ],
      "text/plain": [
       "                   title                                              reply\n",
       "0   在法律中定金与订金的区别订金和定金哪个受  “定金”是指当事人约定由一方向对方给付的，作为债权担保的一定数额的货币，它属于一种法律上的担...\n",
       "1   盗窃罪的犯罪客体是什么，盗窃罪的犯罪主体  盗窃罪的客体要件本罪侵犯的客体是公私财物的所有权。侵犯的对象，是国家、集体或个人的财物，一般...\n",
       "2        非法微整形机构构成非法经营罪吗  符合要件就有可能。非法经营罪，是指未经许可经营专营、专卖物品或其他限制买卖的物品，买卖进出口...\n",
       "3          入室持刀行凶伤人能不能判刑  对于入室持刀伤人涉嫌故意伤害刑事犯罪，一经定罪，故意伤害他人身体的，处三年以下有期徒刑、拘役...\n",
       "4  对交通事故责任认定书不服怎么办，交通事故损           事故认定书下发后，如果你对认定不满意，可在接到认定书3日内到上一级公安机关复议。"
      ]
     },
     "execution_count": 2,
     "metadata": {},
     "output_type": "execute_result"
    }
   ],
   "source": [
    "data = pd.read_csv(\"law_faq.csv\")\n",
    "data.head()"
   ]
  },
  {
   "cell_type": "code",
   "execution_count": 3,
   "id": "32439f05",
   "metadata": {},
   "outputs": [],
   "source": [
    "from dual import DualModel"
   ]
  },
  {
   "cell_type": "code",
   "execution_count": 5,
   "id": "ea76b583",
   "metadata": {},
   "outputs": [
    {
     "data": {
      "text/plain": [
       "DualModel(\n",
       "  (bert): BertModel(\n",
       "    (embeddings): BertEmbeddings(\n",
       "      (word_embeddings): Embedding(21128, 768, padding_idx=0)\n",
       "      (position_embeddings): Embedding(512, 768)\n",
       "      (token_type_embeddings): Embedding(2, 768)\n",
       "      (LayerNorm): LayerNorm((768,), eps=1e-12, elementwise_affine=True)\n",
       "      (dropout): Dropout(p=0.1, inplace=False)\n",
       "    )\n",
       "    (encoder): BertEncoder(\n",
       "      (layer): ModuleList(\n",
       "        (0-11): 12 x BertLayer(\n",
       "          (attention): BertAttention(\n",
       "            (self): BertSdpaSelfAttention(\n",
       "              (query): Linear(in_features=768, out_features=768, bias=True)\n",
       "              (key): Linear(in_features=768, out_features=768, bias=True)\n",
       "              (value): Linear(in_features=768, out_features=768, bias=True)\n",
       "              (dropout): Dropout(p=0.1, inplace=False)\n",
       "            )\n",
       "            (output): BertSelfOutput(\n",
       "              (dense): Linear(in_features=768, out_features=768, bias=True)\n",
       "              (LayerNorm): LayerNorm((768,), eps=1e-12, elementwise_affine=True)\n",
       "              (dropout): Dropout(p=0.1, inplace=False)\n",
       "            )\n",
       "          )\n",
       "          (intermediate): BertIntermediate(\n",
       "            (dense): Linear(in_features=768, out_features=3072, bias=True)\n",
       "            (intermediate_act_fn): GELUActivation()\n",
       "          )\n",
       "          (output): BertOutput(\n",
       "            (dense): Linear(in_features=3072, out_features=768, bias=True)\n",
       "            (LayerNorm): LayerNorm((768,), eps=1e-12, elementwise_affine=True)\n",
       "            (dropout): Dropout(p=0.1, inplace=False)\n",
       "          )\n",
       "        )\n",
       "      )\n",
       "    )\n",
       "    (pooler): BertPooler(\n",
       "      (dense): Linear(in_features=768, out_features=768, bias=True)\n",
       "      (activation): Tanh()\n",
       "    )\n",
       "  )\n",
       ")"
      ]
     },
     "execution_count": 5,
     "metadata": {},
     "output_type": "execute_result"
    }
   ],
   "source": [
    "dula_model = DualModel.from_pretrained(\"./dual_model/checkpoint-500\")\n",
    "dula_model.eval()"
   ]
  },
  {
   "cell_type": "code",
   "execution_count": 6,
   "id": "fe87058d",
   "metadata": {},
   "outputs": [],
   "source": [
    "tokenizer = AutoTokenizer.from_pretrained(\"hfl/chinese-macbert-base\")"
   ]
  },
  {
   "cell_type": "markdown",
   "id": "a323a260",
   "metadata": {},
   "source": [
    "## 转向量"
   ]
  },
  {
   "cell_type": "code",
   "execution_count": 13,
   "id": "a385bac8",
   "metadata": {},
   "outputs": [
    {
     "name": "stderr",
     "output_type": "stream",
     "text": [
      "100%|██████████| 570/570 [08:34<00:00,  1.11it/s]\n"
     ]
    },
    {
     "data": {
      "text/plain": [
       "(18213, 768)"
      ]
     },
     "execution_count": 13,
     "metadata": {},
     "output_type": "execute_result"
    }
   ],
   "source": [
    "import torch\n",
    "from tqdm import tqdm\n",
    "\n",
    "questions = data[\"title\"].tolist()\n",
    "vectors = []\n",
    "\n",
    "with torch.inference_mode():\n",
    "    for i in tqdm(range(0,len(questions),32)):\n",
    "        batch_questions = questions[i:i+32]\n",
    "        inputs = tokenizer(batch_questions,return_tensors= \"pt\", padding= True, max_length= 128, truncation= True)\n",
    "        vector = dula_model.bert(**inputs)[1]\n",
    "        vectors.append(vector)\n",
    "    \n",
    "vectors = torch.concat(vectors,dim=0).cpu().numpy()\n",
    "vectors.shape\n"
   ]
  },
  {
   "cell_type": "markdown",
   "id": "e92f373b",
   "metadata": {},
   "source": [
    "## 索引创建"
   ]
  },
  {
   "cell_type": "code",
   "execution_count": 14,
   "id": "7681a1b7",
   "metadata": {},
   "outputs": [
    {
     "data": {
      "text/plain": [
       "<faiss.swigfaiss_avx2.IndexFlatIP; proxy of <Swig Object of type 'faiss::IndexFlatIP *' at 0x0000025B53493330> >"
      ]
     },
     "execution_count": 14,
     "metadata": {},
     "output_type": "execute_result"
    }
   ],
   "source": [
    "index = faiss.IndexFlatIP(768)\n",
    "faiss.normalize_L2(vectors)\n",
    "index.add(vectors)\n",
    "index"
   ]
  },
  {
   "cell_type": "code",
   "execution_count": 19,
   "id": "b16d7943",
   "metadata": {},
   "outputs": [
    {
     "data": {
      "text/plain": [
       "(5, 768)"
      ]
     },
     "execution_count": 19,
     "metadata": {},
     "output_type": "execute_result"
    }
   ],
   "source": [
    "## 对问题进行向量编码\n",
    "\n",
    "question = \"贷款\"\n",
    "with torch.inference_mode():\n",
    "    inputs = tokenizer(batch_questions,return_tensors= \"pt\", padding= True, max_length= 128, truncation= True)\n",
    "    vector = dula_model.bert(**inputs)[1]\n",
    "    q_vector = vector.cpu().numpy()\n",
    "q_vector.shape"
   ]
  },
  {
   "cell_type": "markdown",
   "id": "e79de950",
   "metadata": {},
   "source": [
    "## 匹配"
   ]
  },
  {
   "cell_type": "code",
   "execution_count": 23,
   "id": "cce7e5af",
   "metadata": {},
   "outputs": [
    {
     "data": {
      "text/plain": [
       "array([['在一个APP贷款，3500元，18期还款，算下来需要换6000元，请问贷款方是否违法？',\n",
       "        '18期就是18个月还6000那么，按1年12个月算的话，就是4000每个月，需要还款333.33，本金是3500/12=291.67每个月的利息就是114.3%，理论上，属于高利贷。可是，你如果确认贷款，你想钻他们的空子，比较难，建议你不用就是，要不然，后续的麻烦事，多了去了。'],\n",
       "       ['钱站借贷2W5,分24期,每个月还约1660,这样算高利贷吗,可以要求减少不合理的部分金额吗',\n",
       "        '民间借贷属于民事行为，受到民法和合同法的约束和保护。但根据《合同法》第二百一十一条规定：“自然人之间的借款合同约定支付利息的，借款的利率不得违反国家有关限制借款利率的规定”。依据《最高人民法院关于审理民间借贷案件适用法律若干问题的规定》，借贷双方约定的利率未超过年利率24%，出借人有权请求借款人按照约定的利率支付利息；但如果借贷双方约定的利率超过年利率36%，则超过年利率36%部分的利息应当被认定无效。《最高人民法院关于审理民间借贷案件适用法律若干问题的规定》第二十六条借贷双方约定的利率未超过年利率24%，出借人请求借款人按照约定的利率支付利息的，人民法院应予支持。借贷双方约定的利率超过年利率36%，超过部分的利息约定无效。借款人请求出借人返还已支付的超过年利率36%部分的利息的，人民法院应予支持。'],\n",
       "       ['婚内男方个人名义的信用贷款，女方需要承担债务吗',\n",
       "        '，婚内共同生活产生的债务一般为共同债务，如能证明该债务您不知情且未用于家庭共同生活，不须归还'],\n",
       "       ['买单侠现金贷借25#00元，分期一年算下要还款3万七千多，请问这是高利贷吗？',\n",
       "        '依据《最高人民法院关于审理民间借贷案件适用法律若干问题的规定》，借贷双方约定的利率未超过年利率24%，出借人有权请求借款人按照约定的利率支付利息；但如果借贷双方约定的利率超过年利率36%，则超过年利率36%部分的利息应当被认定无效。《最高人民法院关于审理民间借贷案件适用法律若干问题的规定》第二十六条借贷双方约定的利率未超过年利率24%，出借人请求借款人按照约定的利率支付利息的，人民法院应予支持。借贷双方约定的利率超过年利率36%，超过部分的利息约定无效。借款人请求出借人返还已支付的超过年利率36%部分的利息的，人民法院应予支持。'],\n",
       "       ['借八万，二年，月还本利5143.33是高利贷吗',\n",
       "        '在法律上认定的高利。贷是指超过银行同期基准利率的4倍，也就是产生法律纠纷时支持同期基准利率四倍以内的利率水平，超过银行同期基准利率的4倍，即为高利。贷，不受法律保护。因为不同期限的基准利率不同，高利，贷的法律认定还与期限相关。同期基准利率是指中央银行公布的基准利率，如一年期，基准利率为6%，4倍为24%，即超过24%为法律认定的高利，贷。就一年期来说，1####元，年利息不超过24%*1####=24##元不算高，利贷。'],\n",
       "       ['外面那些私人的贷款公司在外面放高利贷是合法的吗',\n",
       "        '民间借贷是一种民事法律行为合法的在法律上认定的高利。贷是指超过银行同期基准利率的4倍，也就是产生法律纠纷时支持同期基准利率四倍以内的利率水平，超过银行同期基准利率的4倍，即为高利。贷，不受法律保护。因为不同期限的基准利率不同，高利，贷的法律认定还与期限相关。同期基准利率是指中央银行公布的基准利率，如一年期，基准利率为6%，4倍为24%，即超过24%为法律认定的高利，贷。就一年期来说，1####元，年利息不超过24%*1####=24##元不算高，利贷。'],\n",
       "       ['朋友办理的既有分期，看了一下属于高利贷国家为什么不',\n",
       "        '民间借贷属于民事行为，受到民法和合同法的约束和保护。但根据《合同法》第二百一十一条规定：“自然人之间的借款合同约定支付利息的，借款的利率不得违反国家有关限制借款利率的规定”。依据《最高人民法院关于审理民间借贷案件适用法律若干问题的规定》，借贷双方约定的利率未超过年利率24%，出借人有权请求借款人按照约定的利率支付利息；但如果借贷双方约定的利率超过年利率36%，则超过年利率36%部分的利息应当被认定无效。《最高人民法院关于审理民间借贷案件适用法律若干问题的规定》第二十六条借贷双方约定的利率未超过年利率24%，出借人请求借款人按照约定的利率支付利息的，人民法院应予支持。借贷双方约定的利率超过年利率36%，超过部分的利息约定无效。借款人请求出借人返还已支付的超过年利率36%部分的利息的，人民法院应予支持。'],\n",
       "       ['土地在租赁期内,承包方私自大量取土,是否违法',\n",
       "        '《土地管理法》和《基本农田保护条例》规定，擅自在耕地上建房、挖沙、采矿、取土等属于违法行为，由县级以上人民政府土地行政主管部门责令限期改正，可以并处罚款，构成犯罪的，依法追究刑事责任。'],\n",
       "       ['女方婚前有房产，婚后出卖，房款算夫妻共同财产吗', '不算，婚前财产属于个人财产，就算是婚后卖了，钱也属于个人财产'],\n",
       "       ['民间借贷多个债权人，已申请财产保全，是否有优',\n",
       "        '《最高院关于执行若干问题的规定（试行）》第93条规定：“对人民法院查封、扣押或冻结的财产有优先权、担保物权的债权人，可以申请参加分配程序，主张优先受偿权。”']],\n",
       "      dtype=object)"
      ]
     },
     "execution_count": 23,
     "metadata": {},
     "output_type": "execute_result"
    }
   ],
   "source": [
    "faiss.normalize_L2(q_vector)\n",
    "score, id= index.search(q_vector,10)\n",
    "topk_result = data.values[id[0].tolist()]\n",
    "topk_result"
   ]
  },
  {
   "cell_type": "markdown",
   "id": "34cff104",
   "metadata": {},
   "source": [
    "## 加载交互模型,在交互中批量将topk问题与当前问题匹配，取argmax，再定位到相应答案"
   ]
  },
  {
   "cell_type": "code",
   "execution_count": null,
   "id": "8aedc21d",
   "metadata": {},
   "outputs": [],
   "source": [
    "from transformers import BertForSequenceClassification\n",
    "cross_model = BertForSequenceClassification.from_pretrained(\"./cross_model/\")"
   ]
  }
 ],
 "metadata": {
  "kernelspec": {
   "display_name": "transformers",
   "language": "python",
   "name": "python3"
  },
  "language_info": {
   "codemirror_mode": {
    "name": "ipython",
    "version": 3
   },
   "file_extension": ".py",
   "mimetype": "text/x-python",
   "name": "python",
   "nbconvert_exporter": "python",
   "pygments_lexer": "ipython3",
   "version": "3.9.21"
  }
 },
 "nbformat": 4,
 "nbformat_minor": 5
}
